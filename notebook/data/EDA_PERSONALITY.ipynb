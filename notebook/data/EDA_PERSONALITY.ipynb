{
 "cells": [
  {
   "cell_type": "markdown",
   "id": "9224a016",
   "metadata": {},
   "source": [
    "## PERSONALITY (INTROVER OR EXTROVERT)"
   ]
  },
  {
   "cell_type": "markdown",
   "id": "3ed159f0",
   "metadata": {},
   "source": [
    "#### Life cycle of Machine learning Project\n",
    "\n",
    "- Understanding the Problem Statement\n",
    "- Data Collection\n",
    "- Data Checks to perform\n",
    "- Exploratory data analysis\n",
    "- Data Pre-Processing\n",
    "- Model Training\n",
    "- Choose best model"
   ]
  },
  {
   "cell_type": "markdown",
   "id": "b134b26b",
   "metadata": {},
   "source": [
    "### 1) 🧩 Problem Statement\n",
    "In today's fast-paced and highly social world, understanding human behavior — especially personality traits like introversion and extroversion — is crucial for improving workplace collaboration, enhancing educational experiences, and tailoring mental health interventions.\n",
    "\n",
    "This machine learning project aims to develop a predictive model that can accurately classify individuals as either introverts or extroverts based on their responses to a psychological questionnaire or behavioral dataset. By analyzing patterns in the data, we seek to automate and scale personality assessment, which is traditionally done through manual tests like the MBTI or Big Five.\n",
    "\n",
    "The goal is to explore, preprocess, and train a model on the dataset to understand the key features that influence personality type and evaluate how well machine learning algorithms can perform on this task.\n",
    "\n",
    "This solution has potential applications in:\n",
    "\n",
    "HR and recruitment, to match roles with personality fit\n",
    "\n",
    "Education, for tailoring learning styles\n",
    "\n",
    "Mental health, for better self-awareness and support toolsProblem Statement "
   ]
  },
  {
   "cell_type": "markdown",
   "id": "af3c05f2",
   "metadata": {},
   "source": [
    "### 2) Data Colection\n",
    "\n",
    "Dataset Source - https://www.kaggle.com/datasets/rakeshkapilavai/extrovert-vs-introvert-behavior-data?resource=download\n",
    "\n",
    "The dataset contains 2,900 rows and 8 columns\n"
   ]
  },
  {
   "cell_type": "markdown",
   "id": "db3003a9",
   "metadata": {},
   "source": []
  },
  {
   "cell_type": "markdown",
   "id": "a21d5142",
   "metadata": {},
   "source": [
    "### 2.1) Import Data And Required Packages \n",
    "\n",
    "pandas numpy matplotlip seaborn etc"
   ]
  },
  {
   "cell_type": "code",
   "execution_count": 5,
   "id": "57c9e6ad",
   "metadata": {},
   "outputs": [],
   "source": [
    "import pandas as pd\n",
    "import numpy as np\n",
    "import seaborn as sns\n",
    "import matplotlib.pyplot as plt\n"
   ]
  },
  {
   "cell_type": "markdown",
   "id": "1ee2c81e",
   "metadata": {},
   "source": [
    "### import csv data as Panda dataframe\n"
   ]
  },
  {
   "cell_type": "markdown",
   "id": "9e91b2d4",
   "metadata": {},
   "source": []
  },
  {
   "cell_type": "code",
   "execution_count": 10,
   "id": "8d3facc1",
   "metadata": {},
   "outputs": [],
   "source": [
    "df = pd.read_csv('personality_dataset.csv')"
   ]
  },
  {
   "cell_type": "markdown",
   "id": "e213c5b9",
   "metadata": {},
   "source": [
    "### show top 5 records"
   ]
  },
  {
   "cell_type": "code",
   "execution_count": 12,
   "id": "f3185f29",
   "metadata": {},
   "outputs": [
    {
     "data": {
      "text/html": [
       "<div>\n",
       "<style scoped>\n",
       "    .dataframe tbody tr th:only-of-type {\n",
       "        vertical-align: middle;\n",
       "    }\n",
       "\n",
       "    .dataframe tbody tr th {\n",
       "        vertical-align: top;\n",
       "    }\n",
       "\n",
       "    .dataframe thead th {\n",
       "        text-align: right;\n",
       "    }\n",
       "</style>\n",
       "<table border=\"1\" class=\"dataframe\">\n",
       "  <thead>\n",
       "    <tr style=\"text-align: right;\">\n",
       "      <th></th>\n",
       "      <th>Time_spent_Alone</th>\n",
       "      <th>Stage_fear</th>\n",
       "      <th>Social_event_attendance</th>\n",
       "      <th>Going_outside</th>\n",
       "      <th>Drained_after_socializing</th>\n",
       "      <th>Friends_circle_size</th>\n",
       "      <th>Post_frequency</th>\n",
       "      <th>Personality</th>\n",
       "    </tr>\n",
       "  </thead>\n",
       "  <tbody>\n",
       "    <tr>\n",
       "      <th>0</th>\n",
       "      <td>4.0</td>\n",
       "      <td>No</td>\n",
       "      <td>4.0</td>\n",
       "      <td>6.0</td>\n",
       "      <td>No</td>\n",
       "      <td>13.0</td>\n",
       "      <td>5.0</td>\n",
       "      <td>Extrovert</td>\n",
       "    </tr>\n",
       "    <tr>\n",
       "      <th>1</th>\n",
       "      <td>9.0</td>\n",
       "      <td>Yes</td>\n",
       "      <td>0.0</td>\n",
       "      <td>0.0</td>\n",
       "      <td>Yes</td>\n",
       "      <td>0.0</td>\n",
       "      <td>3.0</td>\n",
       "      <td>Introvert</td>\n",
       "    </tr>\n",
       "    <tr>\n",
       "      <th>2</th>\n",
       "      <td>9.0</td>\n",
       "      <td>Yes</td>\n",
       "      <td>1.0</td>\n",
       "      <td>2.0</td>\n",
       "      <td>Yes</td>\n",
       "      <td>5.0</td>\n",
       "      <td>2.0</td>\n",
       "      <td>Introvert</td>\n",
       "    </tr>\n",
       "    <tr>\n",
       "      <th>3</th>\n",
       "      <td>0.0</td>\n",
       "      <td>No</td>\n",
       "      <td>6.0</td>\n",
       "      <td>7.0</td>\n",
       "      <td>No</td>\n",
       "      <td>14.0</td>\n",
       "      <td>8.0</td>\n",
       "      <td>Extrovert</td>\n",
       "    </tr>\n",
       "    <tr>\n",
       "      <th>4</th>\n",
       "      <td>3.0</td>\n",
       "      <td>No</td>\n",
       "      <td>9.0</td>\n",
       "      <td>4.0</td>\n",
       "      <td>No</td>\n",
       "      <td>8.0</td>\n",
       "      <td>5.0</td>\n",
       "      <td>Extrovert</td>\n",
       "    </tr>\n",
       "  </tbody>\n",
       "</table>\n",
       "</div>"
      ],
      "text/plain": [
       "   Time_spent_Alone Stage_fear  Social_event_attendance  Going_outside  \\\n",
       "0               4.0         No                      4.0            6.0   \n",
       "1               9.0        Yes                      0.0            0.0   \n",
       "2               9.0        Yes                      1.0            2.0   \n",
       "3               0.0         No                      6.0            7.0   \n",
       "4               3.0         No                      9.0            4.0   \n",
       "\n",
       "  Drained_after_socializing  Friends_circle_size  Post_frequency Personality  \n",
       "0                        No                 13.0             5.0   Extrovert  \n",
       "1                       Yes                  0.0             3.0   Introvert  \n",
       "2                       Yes                  5.0             2.0   Introvert  \n",
       "3                        No                 14.0             8.0   Extrovert  \n",
       "4                        No                  8.0             5.0   Extrovert  "
      ]
     },
     "execution_count": 12,
     "metadata": {},
     "output_type": "execute_result"
    }
   ],
   "source": [
    "df.head()"
   ]
  },
  {
   "cell_type": "code",
   "execution_count": 21,
   "id": "0df3c3c2",
   "metadata": {},
   "outputs": [
    {
     "name": "stdout",
     "output_type": "stream",
     "text": [
      "['Extrovert' 'Introvert']\n",
      "[13.  0.  5. 14.  8.  6.  7. 15.  4. 10.  1. 12.  2. 11.  9.  3. nan]\n",
      "[ 4.  9.  0.  3.  1.  2. 10.  6.  5.  8. nan  7. 11.]\n",
      "Index(['Time_spent_Alone', 'Stage_fear', 'Social_event_attendance',\n",
      "       'Going_outside', 'Drained_after_socializing', 'Friends_circle_size',\n",
      "       'Post_frequency', 'Personality'],\n",
      "      dtype='object')\n"
     ]
    }
   ],
   "source": [
    "print(df['Personality'].unique())\n",
    "print(df['Friends_circle_size'].unique())\n",
    "print(df['Time_spent_Alone'].unique())\n",
    "print(df.columns)"
   ]
  },
  {
   "cell_type": "markdown",
   "id": "64d35b4b",
   "metadata": {},
   "source": [
    "### shape of the dataset\n"
   ]
  },
  {
   "cell_type": "code",
   "execution_count": 13,
   "id": "84192e66",
   "metadata": {},
   "outputs": [
    {
     "data": {
      "text/plain": [
       "(2900, 8)"
      ]
     },
     "execution_count": 13,
     "metadata": {},
     "output_type": "execute_result"
    }
   ],
   "source": [
    "df.shape"
   ]
  },
  {
   "cell_type": "markdown",
   "id": "5d099da7",
   "metadata": {},
   "source": [
    "### Dataset informaion \n",
    "1. Time_spent_Alone\n",
    "2. Stage_fear\n",
    "3. Social_event_attendance\n",
    "4. Going_outside\n",
    "5. Drained_after_socializing\n",
    "6. Friends_circle_size\n",
    "7. Post_frequency\n",
    "8. Personality(intorvert/extrovert)\n",
    "\n",
    "every features are measured in number "
   ]
  },
  {
   "cell_type": "markdown",
   "id": "940f6fce",
   "metadata": {},
   "source": [
    "### 3) Checking the data to perform \n",
    "- Check Missing values\n",
    "- Check Duplicates\n",
    "- Check data type\n",
    "- Check the number of unique values of each column\n",
    "- Check statistics of data set\n",
    "- Check various categories present in the different categorical column"
   ]
  },
  {
   "cell_type": "markdown",
   "id": "4e013478",
   "metadata": {},
   "source": [
    "### 3.1) Checking Missing Values"
   ]
  },
  {
   "cell_type": "code",
   "execution_count": 22,
   "id": "52acd78a",
   "metadata": {},
   "outputs": [
    {
     "data": {
      "text/plain": [
       "Time_spent_Alone             63\n",
       "Stage_fear                   73\n",
       "Social_event_attendance      62\n",
       "Going_outside                66\n",
       "Drained_after_socializing    52\n",
       "Friends_circle_size          77\n",
       "Post_frequency               65\n",
       "Personality                   0\n",
       "dtype: int64"
      ]
     },
     "execution_count": 22,
     "metadata": {},
     "output_type": "execute_result"
    }
   ],
   "source": [
    "df.isnull().sum()"
   ]
  },
  {
   "cell_type": "markdown",
   "id": "2ea82ced",
   "metadata": {},
   "source": [
    "### ⚠️ Missing Values Insight\n",
    "Upon inspection, several features in the dataset contain a significant number of missing values, particularly in core behavioral indicators such as Drained_after_socializing, Time_spent_Alone, and Friends_circle_size. The target column Personality has no missing values, which is good.\n",
    "\n",
    "While it might be tempting to drop rows with missing values entirely, doing so could result in a substantial loss of valuable data, which may negatively affect the training and generalization of our machine learning model.\n",
    "\n",
    "Therefore, instead of dropping missing entries outright, we will explore imputation techniques such as:\n",
    "\n",
    "Mean/Median imputation for numeric features\n",
    "\n",
    "KNN imputation for more context-aware filling\n",
    "\n",
    "Possibly dropping columns or rows only if the missing rate exceeds a certain threshold (e.g., 40%)"
   ]
  },
  {
   "cell_type": "markdown",
   "id": "1aabfa56",
   "metadata": {},
   "source": [
    "### visualize missing value"
   ]
  },
  {
   "cell_type": "code",
   "execution_count": 40,
   "id": "676af786",
   "metadata": {},
   "outputs": [
    {
     "name": "stderr",
     "output_type": "stream",
     "text": [
      "c:\\Users\\USER\\Downloads\\machine learning\\project\\inttroversion-extroversion-ml\\venv\\Lib\\site-packages\\missingno\\missingno.py:271: UserWarning: set_ticklabels() should only be used with a fixed number of ticks, i.e. after set_ticks() or using a FixedLocator.\n",
      "  ax2.set_yticklabels([int(n * len(df)) for n in ax1.get_yticks()], fontsize=fontsize)\n"
     ]
    },
    {
     "data": {
      "text/plain": [
       "<Axes: >"
      ]
     },
     "execution_count": 40,
     "metadata": {},
     "output_type": "execute_result"
    },
    {
     "data": {
      "image/png": "[encoded data removed]",
      "text/plain": [
       "<Figure size 2500x1000 with 3 Axes>"
      ]
     },
     "metadata": {},
     "output_type": "display_data"
    }
   ],
   "source": [
    "import missingno as msno\n",
    "\n",
    "msno.bar(df,log= True, color= 'black', label_rotation= 45,labels= True )\n"
   ]
  },
  {
   "cell_type": "markdown",
   "id": "d47357bf",
   "metadata": {},
   "source": [
    "### 3.2) Checking Duplicates "
   ]
  },
  {
   "cell_type": "code",
   "execution_count": 41,
   "id": "73c6d833",
   "metadata": {},
   "outputs": [
    {
     "data": {
      "text/plain": [
       "np.int64(388)"
      ]
     },
     "execution_count": 41,
     "metadata": {},
     "output_type": "execute_result"
    }
   ],
   "source": [
    "df.duplicated().sum()"
   ]
  },
  {
   "cell_type": "markdown",
   "id": "53326aae",
   "metadata": {},
   "source": [
    "there are about 388 duuplicated values in dataset\n"
   ]
  },
  {
   "cell_type": "markdown",
   "id": "cd306f21",
   "metadata": {},
   "source": [
    "### 3.3) checking data types"
   ]
  },
  {
   "cell_type": "code",
   "execution_count": 42,
   "id": "6775ba8c",
   "metadata": {},
   "outputs": [
    {
     "name": "stdout",
     "output_type": "stream",
     "text": [
      "<class 'pandas.core.frame.DataFrame'>\n",
      "RangeIndex: 2900 entries, 0 to 2899\n",
      "Data columns (total 8 columns):\n",
      " #   Column                     Non-Null Count  Dtype  \n",
      "---  ------                     --------------  -----  \n",
      " 0   Time_spent_Alone           2837 non-null   float64\n",
      " 1   Stage_fear                 2827 non-null   object \n",
      " 2   Social_event_attendance    2838 non-null   float64\n",
      " 3   Going_outside              2834 non-null   float64\n",
      " 4   Drained_after_socializing  2848 non-null   object \n",
      " 5   Friends_circle_size        2823 non-null   float64\n",
      " 6   Post_frequency             2835 non-null   float64\n",
      " 7   Personality                2900 non-null   object \n",
      "dtypes: float64(5), object(3)\n",
      "memory usage: 181.4+ KB\n"
     ]
    }
   ],
   "source": [
    "df.info()"
   ]
  },
  {
   "cell_type": "markdown",
   "id": "8444746a",
   "metadata": {},
   "source": [
    "### 3.4) Checking the number of unit values"
   ]
  },
  {
   "cell_type": "code",
   "execution_count": 44,
   "id": "162b28e7",
   "metadata": {},
   "outputs": [
    {
     "data": {
      "text/plain": [
       "Time_spent_Alone             12\n",
       "Stage_fear                    2\n",
       "Social_event_attendance      11\n",
       "Going_outside                 8\n",
       "Drained_after_socializing     2\n",
       "Friends_circle_size          16\n",
       "Post_frequency               11\n",
       "Personality                   2\n",
       "dtype: int64"
      ]
     },
     "execution_count": 44,
     "metadata": {},
     "output_type": "execute_result"
    }
   ],
   "source": [
    "df.nunique()"
   ]
  },
  {
   "cell_type": "markdown",
   "id": "dee4621a",
   "metadata": {},
   "source": [
    "### 3.5) checking statistic of the data"
   ]
  },
  {
   "cell_type": "code",
   "execution_count": 46,
   "id": "b418bbf4",
   "metadata": {},
   "outputs": [
    {
     "data": {
      "text/html": [
       "<div>\n",
       "<style scoped>\n",
       "    .dataframe tbody tr th:only-of-type {\n",
       "        vertical-align: middle;\n",
       "    }\n",
       "\n",
       "    .dataframe tbody tr th {\n",
       "        vertical-align: top;\n",
       "    }\n",
       "\n",
       "    .dataframe thead th {\n",
       "        text-align: right;\n",
       "    }\n",
       "</style>\n",
       "<table border=\"1\" class=\"dataframe\">\n",
       "  <thead>\n",
       "    <tr style=\"text-align: right;\">\n",
       "      <th></th>\n",
       "      <th>Time_spent_Alone</th>\n",
       "      <th>Social_event_attendance</th>\n",
       "      <th>Going_outside</th>\n",
       "      <th>Friends_circle_size</th>\n",
       "      <th>Post_frequency</th>\n",
       "    </tr>\n",
       "  </thead>\n",
       "  <tbody>\n",
       "    <tr>\n",
       "      <th>count</th>\n",
       "      <td>2837.000000</td>\n",
       "      <td>2838.000000</td>\n",
       "      <td>2834.000000</td>\n",
       "      <td>2823.000000</td>\n",
       "      <td>2835.000000</td>\n",
       "    </tr>\n",
       "    <tr>\n",
       "      <th>mean</th>\n",
       "      <td>4.505816</td>\n",
       "      <td>3.963354</td>\n",
       "      <td>3.000000</td>\n",
       "      <td>6.268863</td>\n",
       "      <td>3.564727</td>\n",
       "    </tr>\n",
       "    <tr>\n",
       "      <th>std</th>\n",
       "      <td>3.479192</td>\n",
       "      <td>2.903827</td>\n",
       "      <td>2.247327</td>\n",
       "      <td>4.289693</td>\n",
       "      <td>2.926582</td>\n",
       "    </tr>\n",
       "    <tr>\n",
       "      <th>min</th>\n",
       "      <td>0.000000</td>\n",
       "      <td>0.000000</td>\n",
       "      <td>0.000000</td>\n",
       "      <td>0.000000</td>\n",
       "      <td>0.000000</td>\n",
       "    </tr>\n",
       "    <tr>\n",
       "      <th>25%</th>\n",
       "      <td>2.000000</td>\n",
       "      <td>2.000000</td>\n",
       "      <td>1.000000</td>\n",
       "      <td>3.000000</td>\n",
       "      <td>1.000000</td>\n",
       "    </tr>\n",
       "    <tr>\n",
       "      <th>50%</th>\n",
       "      <td>4.000000</td>\n",
       "      <td>3.000000</td>\n",
       "      <td>3.000000</td>\n",
       "      <td>5.000000</td>\n",
       "      <td>3.000000</td>\n",
       "    </tr>\n",
       "    <tr>\n",
       "      <th>75%</th>\n",
       "      <td>8.000000</td>\n",
       "      <td>6.000000</td>\n",
       "      <td>5.000000</td>\n",
       "      <td>10.000000</td>\n",
       "      <td>6.000000</td>\n",
       "    </tr>\n",
       "    <tr>\n",
       "      <th>max</th>\n",
       "      <td>11.000000</td>\n",
       "      <td>10.000000</td>\n",
       "      <td>7.000000</td>\n",
       "      <td>15.000000</td>\n",
       "      <td>10.000000</td>\n",
       "    </tr>\n",
       "  </tbody>\n",
       "</table>\n",
       "</div>"
      ],
      "text/plain": [
       "       Time_spent_Alone  Social_event_attendance  Going_outside  \\\n",
       "count       2837.000000              2838.000000    2834.000000   \n",
       "mean           4.505816                 3.963354       3.000000   \n",
       "std            3.479192                 2.903827       2.247327   \n",
       "min            0.000000                 0.000000       0.000000   \n",
       "25%            2.000000                 2.000000       1.000000   \n",
       "50%            4.000000                 3.000000       3.000000   \n",
       "75%            8.000000                 6.000000       5.000000   \n",
       "max           11.000000                10.000000       7.000000   \n",
       "\n",
       "       Friends_circle_size  Post_frequency  \n",
       "count          2823.000000     2835.000000  \n",
       "mean              6.268863        3.564727  \n",
       "std               4.289693        2.926582  \n",
       "min               0.000000        0.000000  \n",
       "25%               3.000000        1.000000  \n",
       "50%               5.000000        3.000000  \n",
       "75%              10.000000        6.000000  \n",
       "max              15.000000       10.000000  "
      ]
     },
     "execution_count": 46,
     "metadata": {},
     "output_type": "execute_result"
    }
   ],
   "source": [
    "df.describe()"
   ]
  },
  {
   "cell_type": "markdown",
   "id": "ce38bb9b",
   "metadata": {},
   "source": [
    "🔍 Key Observations\n",
    "Time_spent_Alone shows a wide spread (std = 3.48) with values ranging from 0 to 11, indicating diverse solitude preferences.\n",
    "\n",
    "Social_event_attendance has a similar variance and is moderately skewed toward the lower range.\n",
    "\n",
    "Going_outside has a relatively lower mean and max (7.0), suggesting limited variation in outdoor activity.\n",
    "\n",
    "Friends_circle_size shows a high standard deviation (4.29), indicating a wide range of social networks among individuals.\n",
    "\n",
    "Post_frequency (e.g. social media use) also displays significant variation, with values from 0 to 10"
   ]
  }
 ],
 "metadata": {
  "kernelspec": {
   "display_name": "venv",
   "language": "python",
   "name": "python3"
  },
  "language_info": {
   "codemirror_mode": {
    "name": "ipython",
    "version": 3
   },
   "file_extension": ".py",
   "mimetype": "text/x-python",
   "name": "python",
   "nbconvert_exporter": "python",
   "pygments_lexer": "ipython3",
   "version": "3.13.0"
  }
 },
 "nbformat": 4,
 "nbformat_minor": 5
}
